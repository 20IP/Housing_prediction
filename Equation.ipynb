{
 "cells": [
  {
   "cell_type": "code",
   "execution_count": 1,
   "id": "4af996c8-eded-4cec-a208-ca33d5c0a8ce",
   "metadata": {},
   "outputs": [],
   "source": [
    "import sympy as sym"
   ]
  },
  {
   "cell_type": "code",
   "execution_count": 2,
   "id": "45ed0117-5fa2-494b-a2e0-e9c137ae4d58",
   "metadata": {},
   "outputs": [],
   "source": [
    "(i,n,λ,y,β,p, ŷ, j) = sym.symbols((\"i n λ y β__2_j p ŷ j\"))"
   ]
  },
  {
   "cell_type": "code",
   "execution_count": 3,
   "id": "74d320d0-84fe-4615-866b-f5c72b9d50ff",
   "metadata": {},
   "outputs": [
    {
     "data": {
      "text/latex": [
       "$\\displaystyle λ \\sum_{j=1}^{p} β^{2}_{j} + \\sum_{i=1}^{n} \\left(y - ŷ\\right)^{2}$"
      ],
      "text/plain": [
       "λ*Sum(β__2_j, (j, 1, p)) + Sum((y - ŷ)**2, (i, 1, n))"
      ]
     },
     "execution_count": 3,
     "metadata": {},
     "output_type": "execute_result"
    }
   ],
   "source": [
    "sym.Sum((y-ŷ)**2,(i,1,n))+λ*sym.Sum(β,(j,1,p))"
   ]
  },
  {
   "cell_type": "code",
   "execution_count": 4,
   "id": "8587f443-2ce3-4f9b-84b2-ca13913873f4",
   "metadata": {},
   "outputs": [
    {
     "data": {
      "text/latex": [
       "$\\displaystyle λ \\sum_{j=1}^{p} \\left|{β_{j}}\\right| + \\sum_{i=1}^{n} \\left(y - ŷ\\right)^{2}$"
      ],
      "text/plain": [
       "λ*Sum(Abs(β_j), (j, 1, p)) + Sum((y - ŷ)**2, (i, 1, n))"
      ]
     },
     "execution_count": 4,
     "metadata": {},
     "output_type": "execute_result"
    }
   ],
   "source": [
    "(i,n,λ,y,β,p, ŷ, j) = sym.symbols((\"i n λ y β_j p ŷ j\"),real=True)\n",
    "\n",
    "sym.Sum((y-ŷ)**2,(i,1,n))+λ*sym.Sum(sym.Abs(β),(j,1,p))"
   ]
  },
  {
   "cell_type": "code",
   "execution_count": null,
   "id": "21381f95-63d5-4811-8f49-3b2cb66fb23f",
   "metadata": {},
   "outputs": [],
   "source": []
  }
 ],
 "metadata": {
  "kernelspec": {
   "display_name": "Python 3 (ipykernel)",
   "language": "python",
   "name": "python3"
  },
  "language_info": {
   "codemirror_mode": {
    "name": "ipython",
    "version": 3
   },
   "file_extension": ".py",
   "mimetype": "text/x-python",
   "name": "python",
   "nbconvert_exporter": "python",
   "pygments_lexer": "ipython3",
   "version": "3.8.8"
  }
 },
 "nbformat": 4,
 "nbformat_minor": 5
}
